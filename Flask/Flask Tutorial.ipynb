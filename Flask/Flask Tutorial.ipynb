{
 "cells": [
  {
   "cell_type": "code",
   "execution_count": 1,
   "metadata": {},
   "outputs": [
    {
     "name": "stdout",
     "output_type": "stream",
     "text": [
      " * Serving Flask app \"__main__\" (lazy loading)\n",
      " * Environment: production\n",
      "   WARNING: This is a development server. Do not use it in a production deployment.\n",
      "   Use a production WSGI server instead.\n",
      " * Debug mode: off\n"
     ]
    },
    {
     "name": "stderr",
     "output_type": "stream",
     "text": [
      " * Running on http://127.0.0.1:5000/ (Press CTRL+C to quit)\n",
      "127.0.0.1 - - [21/May/2021 14:14:52] \"\u001b[37mGET / HTTP/1.1\u001b[0m\" 200 -\n"
     ]
    }
   ],
   "source": [
    "from flask import Flask, render_template\n",
    "\n",
    "app = Flask(__name__)\n",
    "\n",
    "def helloWorld(company_name :str) -> str:\n",
    "    \"\"\"\n",
    "    \n",
    "    Cette fonction fait la concaténation du message \"Hello World of \" avec le text donnée en argument (company_name), puis retourn le message concaténé\n",
    "    \n",
    "    :param company_name : chaine de caracteres\n",
    "    :return : chaine de caracteres reprensant le texte concaténé\n",
    "    \n",
    "    \"\"\"\n",
    "    \n",
    "    text = \"Hello world of %s\" % company_name\n",
    "    return text\n",
    "\n",
    "@app.route('/')\n",
    "@app.route('/without_html')\n",
    "def helloWorld_flask_without_html() -> str:\n",
    "    \"\"\"\n",
    "    \n",
    "    Cette fonction est accessible via le serveur crée par Flask, et appelé via les url  http://127.0.0.1:5000/ ou  http://127.0.0.1:5000/without_html.\n",
    "    Cette fonction envoi au serveur le message retourné par la fonction helloWorld(company_name :str).\n",
    "    \n",
    "    :return : chaine de caracteres representant le texte retourné par la fonction helloWorld(company_name :str)\n",
    "    \n",
    "    \"\"\"\n",
    "    \n",
    "    message = helloWorld(\"LeapConseil\")\n",
    "    \n",
    "    return message\n",
    "\n",
    "@app.route('/with_html')\n",
    "def helloWorld_flask_with_html() -> render_template:\n",
    "    \"\"\"\n",
    "    \n",
    "    Cette fonction est accessible via le serveur crée par Flask, et appelé via l'url http://127.0.0.1:5000/with_html.\n",
    "    Cette fonction exploite le fichier HTML \"HelloWold_HTML.html\" et met le message retourné par la fonction helloWorld(company_name :str) la \n",
    "    ou figure la décoration \"{{rendered_message}}\" dans le fichier HTML. ceci est possible grâce à la methode render_template de Flask.\n",
    "    \n",
    "    :return : chaine de caracteres representant le texte retourné par la fonction helloWorld(company_name :str)\n",
    "    \n",
    "    \"\"\"\n",
    "    \n",
    "    current_message = helloWorld(\"LeapConseil\")\n",
    "    \n",
    "    return render_template('HelloWold_HTML.html', rendered_message = current_message )\n",
    "\n",
    "\n",
    "if __name__ == \"__main__\":\n",
    "    \n",
    "    app.run(debug=False)\n"
   ]
  },
  {
   "cell_type": "code",
   "execution_count": null,
   "metadata": {},
   "outputs": [],
   "source": []
  }
 ],
 "metadata": {
  "kernelspec": {
   "display_name": "Python 3",
   "language": "python",
   "name": "python3"
  },
  "language_info": {
   "codemirror_mode": {
    "name": "ipython",
    "version": 3
   },
   "file_extension": ".py",
   "mimetype": "text/x-python",
   "name": "python",
   "nbconvert_exporter": "python",
   "pygments_lexer": "ipython3",
   "version": "3.8.5"
  }
 },
 "nbformat": 4,
 "nbformat_minor": 4
}
